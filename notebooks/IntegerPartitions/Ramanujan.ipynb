{
 "cells": [
  {
   "cell_type": "code",
   "execution_count": 117,
   "id": "817881c1",
   "metadata": {},
   "outputs": [],
   "source": [
    "n = 20\n",
    "\n",
    "R.<x> = PolynomialRing(QQ,[\"x\"])\n",
    "F = expand(prod([ 1-x^i for i in range(1,n)]))\n"
   ]
  },
  {
   "cell_type": "code",
   "execution_count": 118,
   "id": "1be04214",
   "metadata": {},
   "outputs": [
    {
     "data": {
      "text/plain": [
       "7"
      ]
     },
     "execution_count": 118,
     "metadata": {},
     "output_type": "execute_result"
    }
   ],
   "source": [
    "# Until which term we are safe\n",
    "C = F.coefficients()\n",
    "safe = [ i for i in range(len(C)) if abs(C[i])!=1][0]\n",
    "\n",
    "# check pattern\n",
    "safe = [ i for i in range(safe-1) if not C[i]*C[i+1]==(-1)^(i+1)][0]\n",
    "\n",
    "safe"
   ]
  },
  {
   "cell_type": "code",
   "execution_count": 119,
   "id": "ba96cc80",
   "metadata": {},
   "outputs": [
    {
     "data": {
      "text/plain": [
       "0: A001318: Generalized pentagonal numbers: m*(3*m - 1)/2, m = 0, +-1, +-2, +-3, ....\n",
       "1: A294146: Sum of the larger parts of the partitions of n into two parts with smaller part squarefree.\n",
       "2: A343944: Total number of parts in all partitions of n into powers of 2: p1 <= p2 <= ... <= p_k such that p_i <= 1 + Sum_{j=1..i-1} p_j."
      ]
     },
     "execution_count": 119,
     "metadata": {},
     "output_type": "execute_result"
    }
   ],
   "source": [
    "E = F.exponents()\n",
    "\n",
    "oeis.find_by_subsequence(E[:safe])"
   ]
  },
  {
   "cell_type": "code",
   "execution_count": 120,
   "id": "bd6adfdc",
   "metadata": {},
   "outputs": [],
   "source": [
    "SF = sum([ (-1)^i *x^(i*(3*i-1)/2) for i in range(-n,n)])\n"
   ]
  },
  {
   "cell_type": "code",
   "execution_count": 121,
   "id": "867cf633",
   "metadata": {},
   "outputs": [
    {
     "data": {
      "text/plain": [
       "-x^610 + x^551 + x^532 - x^495 - x^477 + x^442 + x^425 - x^392 - x^376 + x^345 + x^330 - x^301 - x^287 + x^260 + x^247 - x^222 - x^210 - x^190 + x^189 + x^188 + x^187 - x^185 - x^183 + x^178 + x^176 + x^175 - x^170 + x^167 + x^166 - x^164 - x^163 - x^162 - x^161 - x^160 - x^159 + x^155 + x^154 + x^153 + x^152 + x^151 + x^150 + x^149 + x^147 + x^146 - x^143 - x^142 - 2*x^141 - 2*x^140 - 4*x^139 - 2*x^138 - 3*x^137 - 2*x^136 - x^135 - x^133 + x^132 + x^131 + 2*x^130 + 3*x^129 + 3*x^128 + 3*x^127 + 5*x^126 + 4*x^125 + 3*x^124 + 3*x^123 + 2*x^122 + x^121 + x^120 - 2*x^119 - 3*x^118 - 3*x^117 - 5*x^116 - 4*x^115 - 5*x^114 - 4*x^113 - 5*x^112 - 4*x^111 - 4*x^110 - x^109 - x^108 + x^107 + 2*x^106 + 4*x^105 + 4*x^104 + 6*x^103 + 5*x^102 + 6*x^101 + 6*x^100 + 5*x^99 + 3*x^98 + 3*x^97 + x^96 - x^94 - 3*x^93 - 4*x^92 - 5*x^91 - 7*x^90 - 6*x^89 - 5*x^88 - 6*x^87 - 4*x^86 - 4*x^85 - 2*x^84 - x^83 + x^82 + x^81 + 4*x^80 + 4*x^79 + 5*x^78 + 5*x^77 + 5*x^76 + 4*x^75 + 5*x^74 + 4*x^73 + 3*x^72 + 2*x^71 - x^69 - 2*x^68 - 3*x^67 - 3*x^66 - 4*x^65 - 4*x^64 - 3*x^63 - 3*x^62 - 3*x^61 - 2*x^60 - x^59 - x^58 + x^55 + 2*x^54 + 3*x^53 + 2*x^52 + 3*x^51 + 2*x^50 + 2*x^49 + x^48 + x^47 - x^45 - x^44 - x^43 - x^41 - x^39 - x^38 - x^37 - x^36 - x^35 + x^31 + x^30 + x^29 + x^28 + x^27 - x^24 - x^23 - x^22 + x^20"
      ]
     },
     "execution_count": 121,
     "metadata": {},
     "output_type": "execute_result"
    }
   ],
   "source": [
    "(F - SF).truncate(n)\n",
    "expand((F - SF))"
   ]
  },
  {
   "cell_type": "code",
   "execution_count": 127,
   "id": "f371c0aa",
   "metadata": {},
   "outputs": [],
   "source": [
    "R.<x> = PolynomialRing(QQ,[\"x\"])\n",
    "for n in range(5,50):\n",
    "    F = expand(prod([ 1-x^i for i in range(1,n)]))\n",
    "    S = sum([ (-1)^i *x^(i*(3*i-1)/2) for i in range(-n,n)])\n",
    "    if (F-S).truncate(n)!=0:\n",
    "        print(\"Counterexample: \", n)"
   ]
  },
  {
   "cell_type": "code",
   "execution_count": 136,
   "id": "940cfc19",
   "metadata": {},
   "outputs": [
    {
     "name": "stdout",
     "output_type": "stream",
     "text": [
      "1 2 -1\n",
      "5 7 -2\n",
      "12 15 -3\n",
      "22 26 -4\n",
      "35 40 -5\n",
      "51 57 -6\n",
      "70 77 -7\n",
      "92 100 -8\n",
      "117 126 -9\n"
     ]
    }
   ],
   "source": [
    "for i in range(1,10):\n",
    "    m = i*(3*i-1)/2\n",
    "    k = (-i)*(3*(-i)-1)/2\n",
    "    print(m,k,m-k)"
   ]
  },
  {
   "cell_type": "code",
   "execution_count": 144,
   "id": "a335724a",
   "metadata": {},
   "outputs": [
    {
     "data": {
      "text/plain": [
       "'         0          1          2          3          4'"
      ]
     },
     "execution_count": 144,
     "metadata": {},
     "output_type": "execute_result"
    }
   ],
   "source": [
    "\" \".join([ \"{:>10}\" for i in range(5)]).format(*[ str(i) for i in range(5)])"
   ]
  },
  {
   "cell_type": "code",
   "execution_count": null,
   "id": "b92ea6e1",
   "metadata": {},
   "outputs": [],
   "source": [
    "w=5\n",
    "for i in range(10):\n",
    "    print(\" \".join([ \"{:>10}\" for i in range(w)]).format(*[ str(Partitions(i*w+j).cardinality()) for j in range(w)]))\n",
    "    #print(\" \".join([ \"{:>10}\" for i in range(5)]).format(*[ str(i*w+j) for j in range(w)]))\n"
   ]
  },
  {
   "cell_type": "code",
   "execution_count": 162,
   "id": "aeabec71",
   "metadata": {},
   "outputs": [
    {
     "name": "stdout",
     "output_type": "stream",
     "text": [
      "         1          1          2          3          5\n",
      "         7         11         15         22         30\n",
      "        42         56         77        101        135\n",
      "       176        231        297        385        490\n",
      "       627        792       1002       1255       1575\n",
      "      1958       2436       3010       3718       4565\n",
      "      5604       6842       8349      10143      12310\n",
      "     14883      17977      21637      26015      31185\n",
      "     37338      44583      53174      63261      75175\n",
      "     89134     105558     124754     147273     173525\n"
     ]
    }
   ],
   "source": [
    "w=5\n",
    "for i in range(10):\n",
    "    print(\" \".join([ \"{:>10}\" for i in range(w)]).format(*[ str(Partitions(i*w+j).cardinality()) for j in range(w)]))\n",
    "    #print(\" \".join([ \"{:>10}\" for i in range(5)]).format(*[ str(i*w+j) for j in range(w)]))\n"
   ]
  },
  {
   "cell_type": "code",
   "execution_count": 172,
   "id": "b018dabb",
   "metadata": {},
   "outputs": [
    {
     "name": "stdout",
     "output_type": "stream",
     "text": [
      "     False      False      False      False       True\n",
      "     False      False       True      False       True\n",
      "     False      False      False      False       True\n",
      "     False      False      False       True       True\n",
      "     False      False      False       True       True\n",
      "     False      False       True      False       True\n",
      "     False      False      False      False       True\n",
      "     False      False      False       True       True\n",
      "     False      False      False      False       True\n",
      "     False      False      False      False       True\n"
     ]
    }
   ],
   "source": [
    "w=5\n",
    "o=5\n",
    "d=5\n",
    "for i in range(10):\n",
    "    \n",
    "    print(\" \".join([ \"{:>10}\" for i in range(o)]).format(*[ str(d.divides(Partitions(i*w+j).cardinality())) for j in range(o)]))\n"
   ]
  },
  {
   "cell_type": "code",
   "execution_count": 174,
   "id": "345f02e6",
   "metadata": {},
   "outputs": [
    {
     "name": "stdout",
     "output_type": "stream",
     "text": [
      "     False      False      False      False      False       True\n",
      "     False      False      False       True       True       True\n",
      "     False      False       True      False       True       True\n",
      "     False      False      False       True      False       True\n",
      "     False      False      False      False      False       True\n",
      "     False      False       True      False       True       True\n",
      "     False      False      False      False      False       True\n",
      "     False      False      False       True       True       True\n",
      "     False      False      False      False      False       True\n",
      "     False      False      False      False      False       True\n",
      "     False      False      False      False      False       True\n",
      "     False      False      False      False      False       True\n",
      "     False      False      False      False      False       True\n",
      "     False      False      False      False      False       True\n",
      "     False      False      False      False      False       True\n",
      "     False      False      False      False      False       True\n",
      "     False      False      False      False      False       True\n",
      "     False      False      False      False      False       True\n",
      "     False      False      False      False      False       True\n",
      "     False      False      False      False      False       True\n",
      "      True      False      False      False      False       True\n",
      "      True      False      False      False      False       True\n",
      "     False      False      False      False      False       True\n",
      "     False      False      False      False      False       True\n",
      "     False      False       True      False      False       True\n",
      "     False      False       True      False      False       True\n",
      "     False      False      False      False      False       True\n",
      "     False      False       True      False      False       True\n",
      "     False      False      False      False      False       True\n",
      "     False      False      False      False      False       True\n",
      "     False      False      False       True      False       True\n",
      "     False      False      False      False      False       True\n",
      "     False       True      False      False      False       True\n",
      "     False       True      False       True       True       True\n",
      "     False      False      False      False       True       True\n",
      "     False      False      False      False       True       True\n",
      "     False      False      False      False      False       True\n",
      "     False      False      False      False      False       True\n",
      "     False      False      False      False      False       True\n",
      "     False       True      False      False      False       True\n",
      "      True      False      False       True      False       True\n",
      "     False      False      False      False      False       True\n",
      "     False      False       True      False      False       True\n",
      "     False      False      False       True      False       True\n",
      "     False      False      False      False       True       True\n",
      "     False      False      False      False       True       True\n",
      "     False      False      False      False      False       True\n",
      "     False      False      False      False      False       True\n",
      "     False      False      False      False      False       True\n",
      "     False      False      False       True      False       True\n",
      "     False       True      False      False      False       True\n",
      "     False      False      False      False      False       True\n",
      "     False      False      False      False      False       True\n",
      "     False       True      False      False      False       True\n",
      "     False      False      False      False      False       True\n",
      "     False      False      False      False      False       True\n",
      "     False      False      False      False      False       True\n",
      "     False      False      False      False       True       True\n",
      "     False      False      False      False      False       True\n",
      "      True      False      False      False      False       True\n",
      "     False      False      False      False       True       True\n",
      "     False       True      False       True      False       True\n",
      "     False      False      False      False      False       True\n",
      "     False      False       True      False      False       True\n",
      "     False       True      False      False       True       True\n",
      "     False      False      False      False       True       True\n",
      "      True      False      False      False      False       True\n",
      "     False       True      False      False      False       True\n",
      "     False       True      False      False      False       True\n",
      "     False      False      False      False      False       True\n",
      "      True      False      False      False      False       True\n",
      "     False      False      False      False      False       True\n",
      "     False      False      False      False      False       True\n",
      "     False      False      False      False      False       True\n",
      "     False      False      False      False      False       True\n",
      "     False      False      False      False      False       True\n",
      "     False      False      False      False       True       True\n",
      "     False      False       True      False      False       True\n",
      "     False      False      False       True      False       True\n",
      "     False      False      False      False      False       True\n",
      "      True       True      False      False      False       True\n",
      "     False      False      False      False      False       True\n",
      "     False      False      False      False      False       True\n",
      "      True      False      False      False       True       True\n",
      "     False      False      False       True      False       True\n",
      "     False      False      False      False      False       True\n",
      "     False      False      False      False      False       True\n",
      "     False       True      False      False      False       True\n",
      "     False      False      False      False      False       True\n",
      "     False      False      False      False      False       True\n",
      "     False      False      False      False      False       True\n",
      "     False      False       True      False      False       True\n",
      "     False      False      False      False       True       True\n",
      "     False      False      False      False      False       True\n",
      "     False      False      False      False      False       True\n",
      "     False      False      False      False      False       True\n",
      "      True      False      False      False      False       True\n",
      "     False      False      False       True      False       True\n",
      "      True       True       True      False       True       True\n",
      "      True      False      False      False      False       True\n"
     ]
    }
   ],
   "source": [
    "w=7\n",
    "o=6\n",
    "d=7\n",
    "for i in range(100):\n",
    "    \n",
    "    print(\" \".join([ \"{:>10}\" for i in range(o)]).format(*[ str(d.divides(Partitions(i*w+j).cardinality())) for j in range(o)]))\n"
   ]
  },
  {
   "cell_type": "code",
   "execution_count": null,
   "id": "33446dae",
   "metadata": {},
   "outputs": [],
   "source": []
  },
  {
   "cell_type": "code",
   "execution_count": null,
   "id": "13a9288e",
   "metadata": {},
   "outputs": [],
   "source": []
  }
 ],
 "metadata": {
  "kernelspec": {
   "display_name": "SageMath 9.5",
   "language": "sage",
   "name": "sagemath-9.5"
  },
  "language_info": {
   "codemirror_mode": {
    "name": "ipython",
    "version": 3
   },
   "file_extension": ".py",
   "mimetype": "text/x-python",
   "name": "python",
   "nbconvert_exporter": "python",
   "pygments_lexer": "ipython3",
   "version": "3.9.9"
  }
 },
 "nbformat": 4,
 "nbformat_minor": 5
}
